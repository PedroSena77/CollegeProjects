{
  "nbformat": 4,
  "nbformat_minor": 0,
  "metadata": {
    "colab": {
      "provenance": []
    },
    "kernelspec": {
      "name": "python3",
      "display_name": "Python 3"
    },
    "language_info": {
      "name": "python"
    }
  },
  "cells": [
    {
      "cell_type": "markdown",
      "source": [],
      "metadata": {
        "id": "TDNcxG-Cb61J"
      }
    },
    {
      "cell_type": "markdown",
      "source": [
        "Exercício 1\n",
        "Calculando o IMC\n",
        "\n",
        "O Índice de Massa Corporal (IMC) é uma medida internacional usada para calcular se uma pessoa está em seu peso ideal. O cálculo do IMC é determinado pela divisão da massa do indivíduo em quilogramas pelo quadrado de sua altura em metros.\n",
        "\n",
        " \n",
        "Escreva um programa que leia do usuário sua altura e peso e calcule o seu IMC."
      ],
      "metadata": {
        "id": "vcPL-EP2b62e"
      }
    },
    {
      "cell_type": "code",
      "source": [
        "# TODO: Complete o Código Abaixo\n",
        "altura = int(input('Altura: '))\n",
        "peso = int(input('  Peso: '))\n",
        "massa = int(input('Massa:'))\n",
        "imc = massa/altura + peso \n",
        "print(\"O índice de marca corporea foi de: \", imc)"
      ],
      "metadata": {
        "colab": {
          "base_uri": "https://localhost:8080/"
        },
        "id": "mVm8qdgTb7uu",
        "outputId": "7727410f-f3ee-416d-a261-1ecdc12fd8ec"
      },
      "execution_count": null,
      "outputs": [
        {
          "output_type": "stream",
          "name": "stdout",
          "text": [
            "Altura: 175\n",
            "  Peso: 89\n",
            "Massa:29\n",
            "O índice de marca corporea foi de:  89.16571428571429\n"
          ]
        }
      ]
    },
    {
      "cell_type": "markdown",
      "source": [
        "Escreva um algoritmo que imprima na tela: Olá Mundo!"
      ],
      "metadata": {
        "id": "yECMgEz-edxr"
      }
    },
    {
      "cell_type": "code",
      "source": [
        "print(\"Ola mundo\")"
      ],
      "metadata": {
        "colab": {
          "base_uri": "https://localhost:8080/"
        },
        "id": "gi00GKOIef7V",
        "outputId": "6576ba67-7e96-48b5-c373-86689e84cbc6"
      },
      "execution_count": null,
      "outputs": [
        {
          "output_type": "stream",
          "name": "stdout",
          "text": [
            "Ola mundo\n"
          ]
        }
      ]
    },
    {
      "cell_type": "markdown",
      "source": [
        "Escreva um programa que imprima seu nome na tela."
      ],
      "metadata": {
        "id": "roQQHpufejlC"
      }
    },
    {
      "cell_type": "code",
      "source": [
        "nome = input('Nome')\n",
        "print(\"O nome digitado foi:\", nome)"
      ],
      "metadata": {
        "colab": {
          "base_uri": "https://localhost:8080/"
        },
        "id": "M_I4HyDjelob",
        "outputId": "bfc5986a-168b-4262-f4cf-3424654067a5"
      },
      "execution_count": null,
      "outputs": [
        {
          "output_type": "stream",
          "name": "stdout",
          "text": [
            "NomePedro\n",
            "O nome digitado foi: Pedro\n"
          ]
        }
      ]
    },
    {
      "cell_type": "markdown",
      "source": [
        "O que o código a seguir imprime?\n",
        "print(\"*\\n**\\n***\\n****\\n*****\")\n",
        "\n",
        "Resposta: \n",
        "*\n",
        "\n",
        "*\n",
        "*****"
      ],
      "metadata": {
        "id": "WluGhxkpewVm"
      }
    },
    {
      "cell_type": "code",
      "source": [
        "print(\"\\n*\\n\\n*\\n*****\")"
      ],
      "metadata": {
        "colab": {
          "base_uri": "https://localhost:8080/"
        },
        "id": "4ZuTJ8IHexEm",
        "outputId": "5be861fb-9a28-4a9d-fe87-e1dc83ceb632"
      },
      "execution_count": null,
      "outputs": [
        {
          "output_type": "stream",
          "name": "stdout",
          "text": [
            "\n",
            "*\n",
            "\n",
            "*\n",
            "*****\n"
          ]
        }
      ]
    },
    {
      "cell_type": "markdown",
      "source": [
        "O que aparece na janela do console, quando cada uma das instruções abaixo são executadas, para: x = 2 e y = 3? Execute cada uma das linhas abaixos e, se necessário, faça os devidos ajustes no código.\n",
        "print(“x = ” + x);\n",
        "print(“O valor de x + x é ” + (x + x));\n",
        "print(“x = ”);\n",
        "print((x + y) + “ = “ + (y + x));"
      ],
      "metadata": {
        "id": "aAVuhWUUfF9H"
      }
    },
    {
      "cell_type": "code",
      "source": [
        "x = int('2')\n",
        "y = int('3')\n",
        "print('x =', x);\n",
        "print(\"\\nO valor de x+x é:\",(x+x))\n",
        "print(\"\\ny =\", y)\n",
        "print(\"\\nA somatória de x e y é:\",(x+y))\n"
      ],
      "metadata": {
        "colab": {
          "base_uri": "https://localhost:8080/"
        },
        "id": "fz4_4vrrfGmA",
        "outputId": "5353f5fb-cf01-432c-8388-16a75577cc8d"
      },
      "execution_count": null,
      "outputs": [
        {
          "output_type": "stream",
          "name": "stdout",
          "text": [
            "x = 2\n",
            "\n",
            "O valor de x+x é: 4\n",
            "\n",
            "y = 3\n",
            "\n",
            "A somatória de x e y é: 5\n"
          ]
        }
      ]
    },
    {
      "cell_type": "markdown",
      "source": [
        "Escreva um algoritmo que imprima na tela a seguinte mensagem:\n",
        "A programação é aprendida escrevendo programas - Brian Kernighan"
      ],
      "metadata": {
        "id": "RbNRc52ShesL"
      }
    },
    {
      "cell_type": "code",
      "source": [
        "print(\"A programação é aprendida escrevendo programas - Brian Kernighan\")"
      ],
      "metadata": {
        "colab": {
          "base_uri": "https://localhost:8080/"
        },
        "id": "jsPLzjExhlry",
        "outputId": "36bf62f7-b254-4121-9da1-3abdfaa2efd5"
      },
      "execution_count": null,
      "outputs": [
        {
          "output_type": "stream",
          "name": "stdout",
          "text": [
            "A programação é aprendida escrevendo programas - Brian Kernighan\n"
          ]
        }
      ]
    },
    {
      "cell_type": "markdown",
      "source": [
        "Crie um algoritmo que imprima o produto entre os números 25 e 27"
      ],
      "metadata": {
        "id": "8HI0RkwUhn7K"
      }
    },
    {
      "cell_type": "code",
      "source": [
        "valor1 = int(25)\n",
        "valor2 = int(27)\n",
        "\n",
        "print('O produto entre os números 27 e 27 é:', (valor1*valor2))\n"
      ],
      "metadata": {
        "colab": {
          "base_uri": "https://localhost:8080/"
        },
        "id": "-cXqXsTUhp_w",
        "outputId": "58f2c342-e7d3-4d64-9bb6-f4d21bbf50a8"
      },
      "execution_count": null,
      "outputs": [
        {
          "output_type": "stream",
          "name": "stdout",
          "text": [
            "O produto entre os números 27 e 27 é: 675\n"
          ]
        }
      ]
    },
    {
      "cell_type": "markdown",
      "source": [
        "Crie um algoritmo que imprima a média aritmética entre os números 4, 12, 15."
      ],
      "metadata": {
        "id": "YVixDEYTmVAE"
      }
    },
    {
      "cell_type": "code",
      "source": [
        "valor1 = int(4)\n",
        "valor2 = int(12)\n",
        "valor3 = int(15)\n",
        "print('a média aritmética entre os números 4,12 e 15 é:', (valor1+valor2+valor3/3))\n"
      ],
      "metadata": {
        "colab": {
          "base_uri": "https://localhost:8080/"
        },
        "id": "130cJeb1mbLZ",
        "outputId": "c5376dc6-a0c9-40d4-8414-28f52659fee2"
      },
      "execution_count": null,
      "outputs": [
        {
          "output_type": "stream",
          "name": "stdout",
          "text": [
            "a média aritmética entre os números 4,12 e 15 é: 21.0\n"
          ]
        }
      ]
    },
    {
      "cell_type": "markdown",
      "source": [
        "Faça um programa que leia um número inteiro e mostre-o na tela da seguinte forma:\n",
        "O número inteiro digitado foi 4."
      ],
      "metadata": {
        "id": "PU6ndbuWmyH6"
      }
    },
    {
      "cell_type": "code",
      "source": [
        "valor = int(input('Digite um número: '))\n",
        "\n",
        "print(\"O número inteiro digitado foi: \", valor)"
      ],
      "metadata": {
        "colab": {
          "base_uri": "https://localhost:8080/"
        },
        "id": "TkBP1Kbjm2ig",
        "outputId": "7ccdcc8f-b97c-4a05-fef3-8cc724dd6bf3"
      },
      "execution_count": null,
      "outputs": [
        {
          "output_type": "stream",
          "name": "stdout",
          "text": [
            "Digite um número: 4\n",
            "O número inteiro digitado foi:  4\n"
          ]
        }
      ]
    },
    {
      "cell_type": "markdown",
      "source": [
        "Faça um programa que leia e imprima dois números inteiros na tela."
      ],
      "metadata": {
        "id": "zox8tgfDoBv6"
      }
    },
    {
      "cell_type": "code",
      "source": [
        "valor = int(input('Digite um número: '))\n",
        "valor2 = int(input('Digite mais um número: '))\n",
        "\n",
        "print(\"Os números inteiros digitados foram: \", valor, \"e\", valor2)"
      ],
      "metadata": {
        "colab": {
          "base_uri": "https://localhost:8080/"
        },
        "id": "NIu7DJaaoClu",
        "outputId": "f9c08604-a585-441d-ef3f-6347be87803b"
      },
      "execution_count": null,
      "outputs": [
        {
          "output_type": "stream",
          "name": "stdout",
          "text": [
            "Digite um número: 10\n",
            "Digite mais um número: 12\n",
            "Os números inteiros digitados foram:  10 e 12\n"
          ]
        }
      ]
    },
    {
      "cell_type": "markdown",
      "source": [
        "Faça um programa que leia um número inteiro e imprima seu número sucessor e antecessor."
      ],
      "metadata": {
        "id": "YSdHnFodoaeC"
      }
    },
    {
      "cell_type": "code",
      "source": [
        "valor = int(input('Digite um número: '))\n",
        "\n",
        "print(\"o número digitado foi: \", valor, \"\\nO antecessor deste número é:\" ,(valor-1), \"\\nE o sucessor é:\", (valor+1))"
      ],
      "metadata": {
        "colab": {
          "base_uri": "https://localhost:8080/"
        },
        "id": "3e0wyPa_obA5",
        "outputId": "2d24cfaa-9cbf-45f0-f366-257b495538f0"
      },
      "execution_count": null,
      "outputs": [
        {
          "output_type": "stream",
          "name": "stdout",
          "text": [
            "Digite um número: 10\n",
            "o número digitado foi:  10 \n",
            "O antecessor deste número é: 9 \n",
            "E o sucessor é: 11\n"
          ]
        }
      ]
    },
    {
      "cell_type": "markdown",
      "source": [
        "Faça um programa que leia o nome, endereço e telefone de um usuário e imprima na tela.\n"
      ],
      "metadata": {
        "id": "MkvAOrqAo2J5"
      }
    },
    {
      "cell_type": "code",
      "source": [
        "nome = (input('Digite seu nome: '))\n",
        "telefone = int(input('Digite seu número de celular: '))\n",
        "endereçoCidade = (input('Digite em qual cidade você mora: '))\n",
        "endereçoRua = (input('Digite o nome da sua rua: '))\n",
        "endereçoNumero = int(input('Digite o número da sua casa: '))\n",
        "\n",
        "print(\"o nome do usuário é: \", nome, \"\\nO número de contato é:\" , telefone, \"\\nE o endereço é:\", endereçoCidade, endereçoRua, endereçoNumero)"
      ],
      "metadata": {
        "colab": {
          "base_uri": "https://localhost:8080/"
        },
        "id": "tzMsSfVCo5gt",
        "outputId": "ab4da198-9c2b-4afb-8d68-cc02b0fb23f5"
      },
      "execution_count": null,
      "outputs": [
        {
          "output_type": "stream",
          "name": "stdout",
          "text": [
            "Digite seu nome: Pedro\n",
            "Digite seu número de celular: 3213131\n",
            "Digite em qual cidade você mora: Betim\n",
            "Digite o nome da sua rua: Av amor perfeito\n",
            "Digite o nome da sua rua: 31\n",
            "o nome do usuário é:  Pedro \n",
            "O número de contato é: 3213131 \n",
            "E o endereço é: Betim Av amor perfeito 31\n"
          ]
        }
      ]
    },
    {
      "cell_type": "markdown",
      "source": [
        "Faça um programa que leia e multiplique dois números inteiros.\n"
      ],
      "metadata": {
        "id": "XQm13jPqqvYz"
      }
    },
    {
      "cell_type": "code",
      "source": [
        "valor = int(input('Digite um número: '))\n",
        "valor2 = int(input('Digite mais um número: '))\n",
        "\n",
        "print(\"O resultado da multiplicação destes números é: \", (valor*valor2))"
      ],
      "metadata": {
        "colab": {
          "base_uri": "https://localhost:8080/"
        },
        "id": "a7KPZKNXr-pv",
        "outputId": "c4e566dd-1972-47c5-c5e1-0b87ed6ec9f8"
      },
      "execution_count": null,
      "outputs": [
        {
          "output_type": "stream",
          "name": "stdout",
          "text": [
            "Digite um número: 2\n",
            "Digite mais um número: 10\n",
            "O resultado da multiplicação destes números é:  20\n"
          ]
        }
      ]
    },
    {
      "cell_type": "markdown",
      "source": [
        "Faça um programa que leia um número real e imprima a terça parte deste número.\n"
      ],
      "metadata": {
        "id": "YtSRWquBsP6D"
      }
    },
    {
      "cell_type": "code",
      "source": [
        "numeroReal = int(input('Digite um número real: '))\n",
        "\n",
        "print(\"A terça parte deste número é: \", (numeroReal/3))"
      ],
      "metadata": {
        "colab": {
          "base_uri": "https://localhost:8080/"
        },
        "id": "dvmdPg7ssQjW",
        "outputId": "b9c833da-76b4-4c10-f499-7c1eaf186034"
      },
      "execution_count": null,
      "outputs": [
        {
          "output_type": "stream",
          "name": "stdout",
          "text": [
            "Digite um número real: 30\n",
            "A terça parte deste número é:  10.0\n"
          ]
        }
      ]
    },
    {
      "cell_type": "markdown",
      "source": [
        "Faça um programa que leia dois números inteiros e imprima o dividendo, divisor, quociente e resto da divisão"
      ],
      "metadata": {
        "id": "jnfZfSgAtC5d"
      }
    },
    {
      "cell_type": "code",
      "source": [
        "numero1 = int(input('Digite um número inteiro: '))\n",
        "numero2 = int(input('Digite mais número inteiro: '))\n",
        "divisão = numero1/numero2\n",
        "resto = numero1%numero2\n",
        "\n",
        "print(\"O dividendo da equação foi \", numero1, \"\\nO divisor da equação foi\", numero2, \"\\nO resto da equação foi\", resto, \"\\nE o quociente da equação foi\", divisão)"
      ],
      "metadata": {
        "id": "hxS5KupTtE0S",
        "colab": {
          "base_uri": "https://localhost:8080/"
        },
        "outputId": "cba13256-b84c-4ddb-a0c0-fcc56ee6f19b"
      },
      "execution_count": null,
      "outputs": [
        {
          "output_type": "stream",
          "name": "stdout",
          "text": [
            "Digite um número inteiro: 7\n",
            "Digite mais número inteiro: 3\n",
            "O dividendo da equação foi  7 \n",
            "O divisor da equação foi 3 \n",
            "O resto da equação foi 1 \n",
            "E o quociente da equação foi 2.3333333333333335\n"
          ]
        }
      ]
    },
    {
      "cell_type": "markdown",
      "source": [
        "Escreva um programa que solicite do usuário dois números, e imprima o resultado da soma, subtração, multiplicação e divisão."
      ],
      "metadata": {
        "id": "_NK1PcXWFJ0D"
      }
    },
    {
      "cell_type": "code",
      "source": [
        "numero1 = int(input('Digite um número inteiro: '))\n",
        "numero2 = int(input('Digite mais número inteiro: '))\n",
        "divisao = numero1/numero2\n",
        "soma = numero1+numero2\n",
        "subtracao = numero1-numero2\n",
        "multiplicacao = numero1*numero2\n",
        "\n",
        "print(\"A soma da equação foi \", soma, \"\\nA divisão da equação foi\", divisao, \"\\nA subtração da equação foi\", subtracao, \"\\nE a multiplicação da equação foi\", multiplicacao)"
      ],
      "metadata": {
        "colab": {
          "base_uri": "https://localhost:8080/"
        },
        "id": "_fcZG_LYFKXc",
        "outputId": "d5f5c8c3-5ad9-46d5-f913-83ba0b19e293"
      },
      "execution_count": null,
      "outputs": [
        {
          "output_type": "stream",
          "name": "stdout",
          "text": [
            "Digite um número inteiro: 2\n",
            "Digite mais número inteiro: 2\n",
            "A soma da equação foi  4 \n",
            "A divisão da equação foi 1.0 \n",
            "A subtração da equação foi 0 \n",
            "E a multiplicação da equação foi 4\n"
          ]
        }
      ]
    },
    {
      "cell_type": "code",
      "source": [
        "numero1 = int(input('Digite um número inteiro: '))\n",
        "numero2 = int(input('Digite mais número inteiro: '))\n",
        "numero3 = int(input('Digite um número inteiro: '))\n",
        "numero4 = int(input('Digite mais número inteiro: '))\n",
        "soma = numero1+numero2+numero3+numero4\n",
        "\n",
        "\n",
        "print(\"A soma dos quatro números foi \", soma)"
      ],
      "metadata": {
        "colab": {
          "base_uri": "https://localhost:8080/"
        },
        "id": "3lz2isrHGdLA",
        "outputId": "658573d9-4370-43d3-da37-10f7d48ac9be"
      },
      "execution_count": null,
      "outputs": [
        {
          "output_type": "stream",
          "name": "stdout",
          "text": [
            "Digite um número inteiro: 1\n",
            "Digite mais número inteiro: 1\n",
            "Digite um número inteiro: 1\n",
            "Digite mais número inteiro: 1\n",
            "A soma dos quatro números foi  4\n"
          ]
        }
      ]
    },
    {
      "cell_type": "markdown",
      "source": [
        "Faça um programa que receba três notas, calcule e mostre a média aritmética."
      ],
      "metadata": {
        "id": "svB7z2nIGttD"
      }
    },
    {
      "cell_type": "code",
      "source": [
        "nota1 = int(input(\"Digite a nota 1: \"))\n",
        "nota2 = int(input(\"Digite a nota 2: \"))\n",
        "nota3 = int(input(\"Digite a nota 3: \"))\n",
        "print('a média aritmética das notas é:', (nota1+nota2+nota3/3))"
      ],
      "metadata": {
        "colab": {
          "base_uri": "https://localhost:8080/"
        },
        "id": "EYOVKCUqGvS6",
        "outputId": "4f6e5cf8-35a2-4c75-cb49-51ac999fe92a"
      },
      "execution_count": null,
      "outputs": [
        {
          "output_type": "stream",
          "name": "stdout",
          "text": [
            "Digite a nota 1: 2\n",
            "Digite a nota 2: 2\n",
            "Digite a nota 3: 2\n",
            "a média aritmética das notas é: 4.666666666666667\n"
          ]
        }
      ]
    },
    {
      "cell_type": "markdown",
      "source": [
        "Faça um programa que receba três notas e seus respectivos pesos, calcule e mostre a média ponderada.\n"
      ],
      "metadata": {
        "id": "ky_XJ159HP2W"
      }
    },
    {
      "cell_type": "code",
      "source": [
        "nota1 = int(input(\"Digite a nota 1: \"))\n",
        "nota2 = int(input(\"Digite a nota 2: \"))\n",
        "nota3 = int(input(\"Digite a nota 3: \"))\n",
        "peso1 = 1\n",
        "peso2 = 2\n",
        "peso3 = 2\n",
        "\n",
        "print('a média ponderada das notas é:', ((nota1*peso1)+(nota2*peso2)+(nota3*peso3)/peso1+peso2+peso3))"
      ],
      "metadata": {
        "colab": {
          "base_uri": "https://localhost:8080/"
        },
        "id": "FugRf8FzHRxD",
        "outputId": "9ba26509-0071-4379-b8d1-e0bd6a12705d"
      },
      "execution_count": null,
      "outputs": [
        {
          "output_type": "stream",
          "name": "stdout",
          "text": [
            "Digite a nota 1: 1\n",
            "Digite a nota 2: 1\n",
            "Digite a nota 3: 1\n",
            "a média ponderada das notas é: 9.0\n"
          ]
        }
      ]
    },
    {
      "cell_type": "markdown",
      "source": [
        "Faça um programa que receba o salário de um funcionário, calcule e mostre o novo salário, sabendo-se que este sofreu um aumento de 25%.\n"
      ],
      "metadata": {
        "id": "uv-Kfm_jJ6PL"
      }
    },
    {
      "cell_type": "code",
      "source": [
        "salario = int(input('Digite o seu salário: '))\n",
        "novosalario = salario+(salario*0.25)\n",
        "\n",
        "\n",
        "print(\"O novo salário é de: \", novosalario)"
      ],
      "metadata": {
        "colab": {
          "base_uri": "https://localhost:8080/"
        },
        "id": "LW-tUtLMKAom",
        "outputId": "bf611da5-9190-45cc-e747-f3fe41795ac6"
      },
      "execution_count": null,
      "outputs": [
        {
          "output_type": "stream",
          "name": "stdout",
          "text": [
            "Digite o seu salário: 1000\n",
            "A soma dos quatro números foi  1250.0\n"
          ]
        }
      ]
    },
    {
      "cell_type": "markdown",
      "source": [
        "Faça um programa que receba o salário de um funcionário e o percentual de aumento, calcule e mostre o valor do aumento e o novo salário.\n"
      ],
      "metadata": {
        "id": "zOFQPri1KPui"
      }
    },
    {
      "cell_type": "code",
      "source": [
        "salario = int(input('Digite o seu salário: '))\n",
        "Aumento = int(input('Digite em quantos porcentos foi o aumento do salário'))\n",
        "novosalario = (Aumento/100)*(salario)+(salario)\n",
        "\n",
        "print(\"O novo salário é de: \", novosalario)"
      ],
      "metadata": {
        "colab": {
          "base_uri": "https://localhost:8080/"
        },
        "id": "YKvGCxcTKRFc",
        "outputId": "becec1cb-e2da-403e-e200-2bbe05eeacb9"
      },
      "execution_count": null,
      "outputs": [
        {
          "output_type": "stream",
          "name": "stdout",
          "text": [
            "Digite o seu salário: 1000\n",
            "Digite em quantos porcentos foi o aumento do salário50\n",
            "A soma dos quatro números foi  1500.0\n"
          ]
        }
      ]
    },
    {
      "cell_type": "markdown",
      "source": [
        "Faça um programa que receba o salário base de um funcionário, calcule e mostre o salário a receber, sabendo-se que o funcionário tem gratificação de 5% sobre o salário base e paga imposto de 7% também sobre o salário base."
      ],
      "metadata": {
        "id": "JNTSlkNPLHtI"
      }
    },
    {
      "cell_type": "code",
      "source": [
        "salario = int(input('Digite o seu salário: '))\n",
        "imposto = (salario)-(0.07*salario)\n",
        "gratificacao = (salario)+(0.05*salario)\n",
        "\n",
        "print(\"O valor do salário é de: \", (gratificacao+imposto)-salario)"
      ],
      "metadata": {
        "colab": {
          "base_uri": "https://localhost:8080/"
        },
        "id": "xTF4sCc-LKwL",
        "outputId": "3e3cc45a-2ef4-4fbd-eefd-04a85e6e4c18"
      },
      "execution_count": null,
      "outputs": [
        {
          "output_type": "stream",
          "name": "stdout",
          "text": [
            "Digite o seu salário: 1000\n",
            "O novo salário é de:  980.0\n"
          ]
        }
      ]
    },
    {
      "cell_type": "markdown",
      "source": [
        "Faça um programa que receba o salário base de um funcionário, calcule e mostre seu salário a receber, sabendo-se que o funcionário tem gratificação de R$ 50,00 e paga imposto de 10% sobre o salário base.\n"
      ],
      "metadata": {
        "id": "tYE5_azjMWmc"
      }
    },
    {
      "cell_type": "code",
      "source": [
        "salario = int(input('Digite o seu salário: '))\n",
        "gratificacao = 50\n",
        "imposto = salario*0.10\n",
        "valorfinal = salario+gratificacao+imposto\n",
        "\n",
        "print(\"O valor do salário é de: \", valorfinal)"
      ],
      "metadata": {
        "colab": {
          "base_uri": "https://localhost:8080/"
        },
        "id": "f-gFF83YMZfz",
        "outputId": "6071fefe-5912-4d95-d10f-478b7b82f1a6"
      },
      "execution_count": null,
      "outputs": [
        {
          "output_type": "stream",
          "name": "stdout",
          "text": [
            "Digite o seu salário: 1000\n",
            "O valor do salário é de:  1150.0\n"
          ]
        }
      ]
    },
    {
      "cell_type": "markdown",
      "source": [
        "Faça um programa que receba o valor de um depósito e o valor da taxa de juros, calcule e mostre o valor do rendimento e o valor total depois do rendimento.\n"
      ],
      "metadata": {
        "id": "KMxsRK5jNwim"
      }
    },
    {
      "cell_type": "code",
      "source": [
        "deposito = int(input('Digite o valor do deposito: '))\n",
        "juros = deposito*0.05\n",
        "valorfinal = salario+juros\n",
        "\n",
        "print(\"O valor com o rendimento é: \", valorfinal, \"\\nE o valor inicial era: \", deposito)"
      ],
      "metadata": {
        "colab": {
          "base_uri": "https://localhost:8080/"
        },
        "id": "KMuS8DUgNx_J",
        "outputId": "c796adad-0d5d-4ec7-8240-ff9de1118ea5"
      },
      "execution_count": null,
      "outputs": [
        {
          "output_type": "stream",
          "name": "stdout",
          "text": [
            "Digite o valor do deposito: 1000\n",
            "O valor com o rendimento é:  1050.0 E o valor inicial era:  1000\n"
          ]
        }
      ]
    },
    {
      "cell_type": "markdown",
      "source": [
        "Faça um programa que calcule e mostre a área de um triângulo. Sabe-se que:\n"
      ],
      "metadata": {
        "id": "baTOpf_zONng"
      }
    },
    {
      "cell_type": "code",
      "source": [
        "valorbase = int(input('Digite o valor da base do triangulo: '))\n",
        "valoraltura = int(input('Digite o valor da altura do triangulo: '))\n",
        "area = (valorbase*valoraltura)/2\n",
        "\n",
        "print(\"O valor da área do triângulo é: \", area)"
      ],
      "metadata": {
        "colab": {
          "base_uri": "https://localhost:8080/"
        },
        "id": "T253Dai-OPcp",
        "outputId": "78f0d30b-0c90-4896-8e41-dd7f16fa1d00"
      },
      "execution_count": null,
      "outputs": [
        {
          "output_type": "stream",
          "name": "stdout",
          "text": [
            "Digite o valor da base do triangulo: 10\n",
            "Digite o valor da altura do triangulo: 10\n",
            "O valor da área do triângulo é:  50.0\n"
          ]
        }
      ]
    },
    {
      "cell_type": "markdown",
      "source": [
        "Escreva um programa que receba como entrada o raio de um círculo e imprima o diâmetro, a circunferência e a área. Para isso, utilize as fórmulas: diâmetro = 2r; circunferência = 2πr, área = πr².\n"
      ],
      "metadata": {
        "id": "5belz-tJO9C8"
      }
    },
    {
      "cell_type": "code",
      "source": [
        "diametroinfor = int(input('Digite o diâmetro: '))\n",
        "area = ((diametroinfor*diametroinfor)*3.14)\n",
        "\n",
        "print(\"O valor da área do triângulo é: \", area)"
      ],
      "metadata": {
        "colab": {
          "base_uri": "https://localhost:8080/"
        },
        "id": "L0fU8amGO-yS",
        "outputId": "f6ef7fd1-4576-4a63-a13a-3932b2d47b3d"
      },
      "execution_count": null,
      "outputs": [
        {
          "output_type": "stream",
          "name": "stdout",
          "text": [
            "Digite o diâmetro: 15\n",
            "O valor da área do triângulo é:  706.5\n"
          ]
        }
      ]
    },
    {
      "cell_type": "markdown",
      "source": [
        "Faça um programa que receba um número positivo e maior que zero, calcule e mostre:\n",
        "o número digitado ao quadrado;\n",
        "o número digitado ao cubo;\n",
        "a raiz quadrada do número digitado.\n"
      ],
      "metadata": {
        "id": "Cn8g4nyGQUzA"
      }
    },
    {
      "cell_type": "code",
      "source": [
        "import math\n",
        "numero1 = int(input('Digite um número maior que zero: '))\n",
        "aoquadrado = numero1*numero1\n",
        "cubo = numero1*numero1*numero1\n",
        "raiz = math.pow(numero1, 1/2)\n",
        "\n",
        "print(\"O valor deste número ao quadrado é: \", aoquadrado, \"\\nO valor deste número ao cubo é: \", cubo, \"\\nA raiz quadrada deste número é: \", raiz)"
      ],
      "metadata": {
        "colab": {
          "base_uri": "https://localhost:8080/"
        },
        "id": "J3LlEZf_QgX_",
        "outputId": "61ea3662-31f0-4b71-abb7-d78209af8b13"
      },
      "execution_count": null,
      "outputs": [
        {
          "output_type": "stream",
          "name": "stdout",
          "text": [
            "Digite um número maior que zero: 49\n",
            "O valor deste número ao quadrado é:  2401 \n",
            "O valor deste número ao cubo é:  117649 \n",
            "A raiz quadrada deste número é:  7.0\n"
          ]
        }
      ]
    },
    {
      "cell_type": "markdown",
      "source": [
        "Faça um programa que receba dois números maiores que zero, calcule e mostre um elevado ao outro.\n"
      ],
      "metadata": {
        "id": "peeTsQ4ARdN7"
      }
    },
    {
      "cell_type": "code",
      "source": [
        "numero1 = int(input('Digite um número maior que zero: '))\n",
        "numero2 = int(input('Digite um segundo número maior que zero: '))\n",
        "numero1cal = numero1 ** numero2\n",
        "numero2cal = numero2 ** numero1\n",
        "\n",
        "print(\"O valor do primeiro numero elevado ao segundo é: \", numero1cal, \"\\nO valor do segundo numero elevado ao segundo é: \", numero2cal)"
      ],
      "metadata": {
        "colab": {
          "base_uri": "https://localhost:8080/"
        },
        "id": "8_NBm9HYRdop",
        "outputId": "75421bf8-42e2-4320-bff5-bb5c992e67ad"
      },
      "execution_count": null,
      "outputs": [
        {
          "output_type": "stream",
          "name": "stdout",
          "text": [
            "Digite um número maior que zero: 2\n",
            "Digite um segundo número maior que zero: 2\n",
            "O valor do primeiro numero elevado ao segundo é:  4 \n",
            "O valor do segundo numero elevado ao segundo é:  4\n"
          ]
        }
      ]
    },
    {
      "cell_type": "markdown",
      "source": [
        "Sabe-se que: pé = 12 polegadas; 1 jarda = 3 pés e 1 milha = 1,760 jarda. Faça um programa que receba uma medida em pés, faça as conversões a seguir e mostre os resultados.\n",
        "polegadas;\n",
        "jardas;\n",
        "milhas."
      ],
      "metadata": {
        "id": "K6U3137aSC1J"
      }
    },
    {
      "cell_type": "code",
      "source": [
        "numero = int(input('Digite um número maior que zero (será definido como \"pés\"): '))\n",
        "polegadas = numero*12\n",
        "jardas = numero/3\n",
        "milhas = (numero/3)*1.760\n",
        "\n",
        "print(\"O valor em polegadas é: \", polegadas, \"\\nO valor em jardas é: \", jardas, \"\\nO valor em milhas é: \", milhas)"
      ],
      "metadata": {
        "colab": {
          "base_uri": "https://localhost:8080/"
        },
        "id": "vZ9UD05WSGAR",
        "outputId": "00977102-c5b3-4fe3-f984-04e8a77cce47"
      },
      "execution_count": null,
      "outputs": [
        {
          "output_type": "stream",
          "name": "stdout",
          "text": [
            "Digite um número maior que zero (será definido como \"pés\"): 3\n",
            "O valor em polegadas é:  36 \n",
            "O valor em jardas é:  1.0 \n",
            "O valor em milhas é:  1.76\n"
          ]
        }
      ]
    },
    {
      "cell_type": "markdown",
      "source": [
        "Escreva um programa que receba como entrada um número de 5 dígitos, separe o número em dígitos individuais e os imprima separados por 3 espaços cada um. Por exemplo, se o usuário digitar 42339, o programa deverá imprimir: 4 2 3 3. Dica: utilize as operações de divisão e módulo para extrair cada dígito do número."
      ],
      "metadata": {
        "id": "CoMwTalLURes"
      }
    },
    {
      "cell_type": "code",
      "source": [
        "numero = int(input(\"Informe um número\"))\n",
        "n = str(numero)\n",
        "\n",
        "print('Unidade: {}'.format(n[4]))\n",
        "print('Unidade: {}'.format(n[3]))\n",
        "print('Unidade: {}'.format(n[2]))\n",
        "print('Unidade: {}'.format(n[1]))\n",
        "print('Unidade: {}'.format(n[0]))"
      ],
      "metadata": {
        "colab": {
          "base_uri": "https://localhost:8080/"
        },
        "id": "MtxMiFW_UTbG",
        "outputId": "03ef0cad-c817-4874-fc82-903300c52936"
      },
      "execution_count": null,
      "outputs": [
        {
          "output_type": "stream",
          "name": "stdout",
          "text": [
            "Informe um número12345\n",
            "Unidade: 5\n",
            "Unidade: 4\n",
            "Unidade: 3\n",
            "Unidade: 2\n",
            "Unidade: 1\n"
          ]
        }
      ]
    }
  ]
}