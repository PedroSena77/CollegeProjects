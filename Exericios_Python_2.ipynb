{
  "nbformat": 4,
  "nbformat_minor": 0,
  "metadata": {
    "colab": {
      "provenance": []
    },
    "kernelspec": {
      "name": "python3",
      "display_name": "Python 3"
    },
    "language_info": {
      "name": "python"
    }
  },
  "cells": [
    {
      "cell_type": "markdown",
      "source": [
        "A nota final de um estudante é calculada a partir de três notas atribuídas, respectivamente, a um trabalho\n",
        "de laboratório, a uma avaliação semestral e a um exame final. A média das três notas mencionadas obedece aos pesos a seguir:\n",
        "\n",
        "Trabalho de Laboratório:\t2\n",
        "Avaliação Semestral:\t3\n",
        "Exame Final:\t5\n",
        "\n",
        "Faça um programa que receba as três notas, calcule e mostre a média ponderada e o conceito que segue a tabela:\n",
        "\n",
        "8,00 <= Média <= 10,00\tA\n",
        "7,00 <= Média < 8,00\tB\n",
        "6,00 <= Média < 7,00\tC\n",
        "5,00 <= Média < 6,00\tD\n",
        "0,00 <= Média < 5,00\tE"
      ],
      "metadata": {
        "id": "WgBD_3MqRk66"
      }
    },
    {
      "cell_type": "code",
      "source": [
        "valor1 = 2\n",
        "valor2 = 3\n",
        "valor3 = 5\n",
        "\n",
        "media = valor1+valor2+valor3/3\n",
        "\n",
        "print('A média do aluno foi de: ', media)\n",
        "\n",
        "if 8 <= media <= 10:\n",
        "  print('E a nota conceito é A')\n",
        "\n",
        "if 7 <= media <= 8:\n",
        "  print('E a nota conceito é B')\n",
        "\n",
        "if 6 <= media <= 7:\n",
        "  print('E a nota conceito é C')\n",
        "\n",
        "if 5 <= media <= 6:\n",
        "  print('E a nota conceito é D')\n",
        "\n",
        "if 0 <= media <= 5: \n",
        "  print('E a nota conceito é E')\n",
        "\n",
        "else: \n",
        "  print('')"
      ],
      "metadata": {
        "colab": {
          "base_uri": "https://localhost:8080/"
        },
        "id": "vTjoCl4-Rtds",
        "outputId": "9255b23d-3335-4f75-df84-e4077d67eee6"
      },
      "execution_count": null,
      "outputs": [
        {
          "output_type": "stream",
          "name": "stdout",
          "text": [
            "A média do aluno foi de:  6.666666666666667\n",
            "E a nota conceito é C\n",
            "\n"
          ]
        }
      ]
    },
    {
      "cell_type": "markdown",
      "source": [
        "Faça um programa que receba três notas de um aluno, calcule e mostre a média aritmética e a mensagem constante na tabela a seguir.\n",
        "Média\tSituação\n",
        "7,00 <= Média <= 10,00\tAprovado\n",
        "3,00 <= Média < 7,00\tExame Especial\n",
        "0,00 <= Média < 3,00\tReprovado"
      ],
      "metadata": {
        "id": "Fsbzdl9VbXwR"
      }
    },
    {
      "cell_type": "code",
      "source": [
        "valor1 = int(input('Digite a primeira nota: '))\n",
        "valor2 = int(input('Digite a segunda nota: '))\n",
        "valor3 = int(input('Digite a terceira nota: '))\n",
        "\n",
        "media = valor1+valor2+valor3/3\n",
        "\n",
        "print('A média do aluno foi de: ', media)\n",
        "\n",
        "if 7 <= media <= 10:\n",
        "  print('Aluno aprovado')\n",
        "\n",
        "if 3 <= media <= 7:\n",
        "  print('Aluo terá que fazer exame especial')\n",
        "\n",
        "if 0 <= media <= 3:\n",
        "  print('Aluno reprovado')\n",
        "\n",
        "else: \n",
        "  print('')"
      ],
      "metadata": {
        "colab": {
          "base_uri": "https://localhost:8080/"
        },
        "id": "0h0C4dxVbaYs",
        "outputId": "8393d283-d2b4-4c27-8b57-d267e17d22a0"
      },
      "execution_count": null,
      "outputs": [
        {
          "output_type": "stream",
          "name": "stdout",
          "text": [
            "Digite a primeira nota: 2\n",
            "Digite a segunda nota: 4\n",
            "Digite a terceira nota: 3\n",
            "A média do aluno foi de:  7.0\n",
            "Aluno aprovado\n",
            "Aluo terá que fazer exame especial\n",
            "\n"
          ]
        }
      ]
    },
    {
      "cell_type": "markdown",
      "source": [
        "Faça um programa que receba dois números e mostre o maior."
      ],
      "metadata": {
        "id": "_S7OmGLZceZF"
      }
    },
    {
      "cell_type": "code",
      "source": [
        "valor1 = int(input('Digite o primeiro número: '))\n",
        "valor2 = int(input('Digite o segundo numero: '))\n",
        "\n",
        "if valor1 > valor2:\n",
        "  print('O maior valor foi o primeiro digitado')\n",
        "else:\n",
        "  print('O maior valor é o segundo digitado')"
      ],
      "metadata": {
        "colab": {
          "base_uri": "https://localhost:8080/"
        },
        "id": "3w2tpyoBcgY-",
        "outputId": "80b44d0e-9c31-4b76-9831-60cd6afb5c00"
      },
      "execution_count": null,
      "outputs": [
        {
          "output_type": "stream",
          "name": "stdout",
          "text": [
            "Digite o primeiro número: 10\n",
            "Digite o segundo numero: 20\n",
            "O maior valor é o segundo digitado\n"
          ]
        }
      ]
    },
    {
      "cell_type": "markdown",
      "source": [
        "Faça um programa que receba um número inteiro e verifique se é par ou ímpar."
      ],
      "metadata": {
        "id": "sS2tovsXdo52"
      }
    },
    {
      "cell_type": "code",
      "source": [
        "valor1 = int(input('Digite um número: '))\n",
        "\n",
        "if (valor1%2) == 0:\n",
        "  print('O númeor é par')\n",
        "else:\n",
        "  print('O número é ímpar')"
      ],
      "metadata": {
        "colab": {
          "base_uri": "https://localhost:8080/"
        },
        "id": "YDDoiZBodpWB",
        "outputId": "c6678aa9-a70f-4160-c8f2-ae696540de0e"
      },
      "execution_count": null,
      "outputs": [
        {
          "output_type": "stream",
          "name": "stdout",
          "text": [
            "Digite um número: 10\n",
            "O númeor é par\n"
          ]
        }
      ]
    },
    {
      "cell_type": "markdown",
      "source": [
        "Faça um programa que mostre o menu de opções a seguir, receba a opção do usuário e os dados necessários para executar cada operação.\n",
        "Menu de opções:\n",
        "\n",
        "Somar dois números.\n",
        "Raiz quadrada de um número.\n",
        "Digite a opção desejada:"
      ],
      "metadata": {
        "id": "vhbSmrXcP1Pw"
      }
    },
    {
      "cell_type": "code",
      "source": [
        "import math\n",
        "\n",
        "n1 = int(input('Digite o primeiro valor: '))\n",
        "n2 = int(input('Digite o segundo valor: '))\n",
        "\n",
        "opcao = 0\n",
        "\n",
        "while opcao!= 3: \n",
        "  print('''Escolha uma das opções: \n",
        "  [1] somar\n",
        "  [2] Raiz quadrada\n",
        "  [3] Sair do programa''')\n",
        "  opcao = int(input('Qual é a sua opção? '))\n",
        "  if opcao == 1:\n",
        "    soma = n1 + n2\n",
        "    print('A Soma entre os números é de: ', soma)\n",
        "  elif opcao == 2:\n",
        "    raiz1 = math.pow(n1, 1/2)\n",
        "    raiz2 = math.pow(n2, 1/2)\n",
        "    print('A Raiz quadrada do número 1 é: ', raiz1, 'A raiz quadrada do numero 2 é: ', raiz2)\n",
        "  elif opcao == 3: \n",
        "    print('Finalizando')\n",
        "  else:\n",
        "    print(' Opção invalida!')\n",
        "  print('=-=' * 10)\n",
        "\n",
        "print('Fim do programa!')\n"
      ],
      "metadata": {
        "colab": {
          "base_uri": "https://localhost:8080/"
        },
        "id": "j9BxjmFsP28X",
        "outputId": "abba4794-905d-4de1-f5da-d02415df20d5"
      },
      "execution_count": null,
      "outputs": [
        {
          "output_type": "stream",
          "name": "stdout",
          "text": [
            "Digite o primeiro valor: 10\n",
            "Digite o segundo valor: 10\n",
            "Escolha uma das opções: \n",
            "  [1] somar\n",
            "  [2] Raiz quadrada\n",
            "  [3] Sair do programa\n",
            "Qual é a sua opção? 2\n",
            "A Raiz quadrada do número 1 é:  3.1622776601683795 A raiz quadrada do numero 2 é:  3.1622776601683795\n",
            "=-==-==-==-==-==-==-==-==-==-=\n",
            "Escolha uma das opções: \n",
            "  [1] somar\n",
            "  [2] Raiz quadrada\n",
            "  [3] Sair do programa\n",
            "Qual é a sua opção? 3\n",
            "Fim do\n",
            "=-==-==-==-==-==-==-==-==-==-=\n",
            "Fim do programa!\n"
          ]
        }
      ]
    },
    {
      "cell_type": "markdown",
      "source": [
        "Faça um programa que receba o código correspondente ao cargo de um funcionário e seu salário atual e mostre o cargo, o valor do aumento e seu novo salário. Os cargos estão na tabela a seguir.\n",
        "Código\tCargo\tPercentual\n",
        "1\tEscrituário\t50%\n",
        "2\tSecretário\t35%\n",
        "3\tCaixa\t20%\n",
        "4\tGerente\t10%\n",
        "5\tDiretor\tSem Aumento"
      ],
      "metadata": {
        "id": "VGRaJCLTaimx"
      }
    },
    {
      "cell_type": "code",
      "source": [
        "salfunc = int(input('Digite seu salário: '))\n",
        "\n",
        "opcao = 0\n",
        "\n",
        "while opcao!= 6: \n",
        "  print('''Escolha seu cargo: \n",
        "  [1] Escrituário\n",
        "  [2] Secretário\n",
        "  [3] Caixa\n",
        "  [4] Gerente\n",
        "  [5] Diretor\n",
        "  [6] Sair''')\n",
        "  opcao = int(input('Qual é a sua opção? '))\n",
        "\n",
        "  if opcao == 1:\n",
        "    valor1 = salfunc + (salfunc*0.50)\n",
        "    print('O seu novo salário com aumento é de: ', valor1)\n",
        "  elif opcao == 2:\n",
        "    valor2 = (salfunc*0.35) + salfunc\n",
        "    print('O seu novo salário com aumento é de: ', valor2)\n",
        "  elif opcao == 3:\n",
        "    valor3 = (salfunc*0.20) + salfunc\n",
        "    print('O seu novo salário com aumento é de: ', valor3)\n",
        "  elif opcao == 4:\n",
        "    valor4 = (salfunc*0.10) + salfunc\n",
        "    print('O seu novo salário com aumento é de: ', valor4)  \n",
        "  elif opcao == 5: \n",
        "    print('Seu salário não possui aumento! O valor continuará sendo de: ', salfunc)\n",
        "  elif opcao == 6: \n",
        "    print('Saindo........')\n",
        "  else:\n",
        "    print(' Opção invalida!')\n",
        "    print('=-=' * 10)\n",
        "\n",
        "print('Fim do programa!')"
      ],
      "metadata": {
        "colab": {
          "base_uri": "https://localhost:8080/"
        },
        "id": "bFa0Dx95alne",
        "outputId": "576d757b-a363-49df-bc9a-82387c80a27c"
      },
      "execution_count": null,
      "outputs": [
        {
          "output_type": "stream",
          "name": "stdout",
          "text": [
            "Digite seu salário: 1000\n",
            "Escolha seu cargo: \n",
            "  [1] Escrituário\n",
            "  [2] Secretário\n",
            "  [3] Caixa\n",
            "  [4] Gerente\n",
            "  [5] Diretor\n",
            "  [6] Sair\n",
            "Qual é a sua opção? 5\n",
            "Seu salário não possui aumento! O valor continuará sendo de:  1000\n",
            "Escolha seu cargo: \n",
            "  [1] Escrituário\n",
            "  [2] Secretário\n",
            "  [3] Caixa\n",
            "  [4] Gerente\n",
            "  [5] Diretor\n",
            "  [6] Sair\n",
            "Qual é a sua opção? 6\n",
            "Saindo........\n",
            "Fim do programa!\n"
          ]
        }
      ]
    },
    {
      "cell_type": "markdown",
      "source": [
        "Faça um programa que receba o salário inicial de um funcionário, calcule e mostre o novo salário, acrescido de bonificação e de auxílio escola."
      ],
      "metadata": {
        "id": "O5WaAxwTis4C"
      }
    },
    {
      "cell_type": "code",
      "source": [
        "salfunc = int(input('Digite seu salário: '))\n",
        "\n",
        "if salfunc <= 500: \n",
        "  print('Sua bonificação será de 5% totalizando: ', (salfunc+(salfunc*0.05)))\n",
        "  print('Com o auxilío escola, totaliza o valor de: ', (salfunc+(salfunc*0.05)+150))\n",
        "elif salfunc > 500 <= 1200:\n",
        "  print('Sua bonificação será de 12% totalizando: ', (salfunc+(salfunc*0.12)))\n",
        "  print('Com o auxilío escola, totaliza o valor de: ', (salfunc+(salfunc*0.12)+150))\n",
        "else: \n",
        "  print('Seu salário é alto! Não há bonificação')"
      ],
      "metadata": {
        "colab": {
          "base_uri": "https://localhost:8080/"
        },
        "id": "1xuncjUVivll",
        "outputId": "19c740d0-149f-45b9-9cc7-1b696b15e7b0"
      },
      "execution_count": null,
      "outputs": [
        {
          "output_type": "stream",
          "name": "stdout",
          "text": [
            "Digite seu salário: 500\n",
            "Sua bonificação será de 5% totalizando:  525.0\n",
            "Com o auxilío escola, totaliza o valor de:  675.0\n"
          ]
        }
      ]
    },
    {
      "cell_type": "markdown",
      "source": [
        "Um supermercado deseja reajustar os preços de seus produtos usando o seguinte critério: o produto poderá ter seu preço aumentado ou diminuído. Para o preço ser alterado, o produto deve preencher pelo menos um dos requisitos a seguir:"
      ],
      "metadata": {
        "id": "CNCPphPokVaR"
      }
    },
    {
      "cell_type": "code",
      "source": [
        "produtovalor = int(input('Digite o valor atual do produto: '))\n",
        "\n",
        "if produtovalor < 30.00: \n",
        "  print('O aumento do produto será de 10% totalizando: ', (produtovalor+(produtovalor*0.10)))\n",
        "elif produtovalor >= 30.00 < 80.00:\n",
        "  print('O aumento do produto será de 15% totalizando: ', (produtovalor+(produtovalor*0.15)))\n",
        "else: \n",
        "  print('Produto de valor alto! A diminuição será de 20% totalizando: ', (produtovalor-(produtovalor*0.20)))"
      ],
      "metadata": {
        "colab": {
          "base_uri": "https://localhost:8080/"
        },
        "id": "Z5Vz2npQkXta",
        "outputId": "67200d64-9cdd-44eb-cd1d-104528763218"
      },
      "execution_count": null,
      "outputs": [
        {
          "output_type": "stream",
          "name": "stdout",
          "text": [
            "Digite seu salário: 30\n",
            "O aumento do produto será de 15% totalizando:  34.5\n"
          ]
        }
      ]
    },
    {
      "cell_type": "code",
      "source": [
        "import math\n",
        "\n",
        "valora = float(input('Digite o valor de a: '))\n",
        "valorb = float(input('Digite o valor de b:'))\n",
        "valorc = float(input('Digite o valor de c: '))\n",
        "\n",
        "delta = valorb**2-4*valora*valorc\n",
        "print('delta = ', delta)\n",
        "raiz = math.sqrt(delta)\n",
        "print('Raiz', raiz)\n",
        "\n",
        "x1 = (-valorb+raiz)/(2*valora)\n",
        "print('Valor de x1 é: ', x1)\n",
        "x2 = (-valorb+raiz)/(2*valora)\n",
        "print('Valor de x1 é: ', x2)"
      ],
      "metadata": {
        "colab": {
          "base_uri": "https://localhost:8080/"
        },
        "id": "KyX_zxOnmDej",
        "outputId": "a3b663bb-a2a8-4804-b103-be3504a714f9"
      },
      "execution_count": null,
      "outputs": [
        {
          "output_type": "stream",
          "name": "stdout",
          "text": [
            "Digite o valor de a: 2\n",
            "Digite o valor de b:100\n",
            "Digite o valor de c: 2\n",
            "delta =  9984.0\n",
            "Raiz 99.91996797437437\n",
            "Valor de x1 é:  -0.020008006406406764\n",
            "Valor de x1 é:  -0.020008006406406764\n"
          ]
        }
      ]
    },
    {
      "cell_type": "markdown",
      "source": [
        "Dados três valores X, Y e Z, verifique se eles podem ser os comprimentos dos lados de um triângulo e, se forem, verifique se é um triângulo equilátero, isósceles ou escaleno. Se eles não formarem um triângulo, escreva uma mensagem. Considere que:\n",
        "O comprimento de cada lado de um triângulo é menor que a soma dos outros dois lados;\n",
        "Chama-se equilátero o triângulo que tem três lados iguais;\n",
        "Denomina-se isósceles o triângulo que tem o comprimento de dois lados iguais;\n",
        "Recebe o nome de escaleno o triângulo que tem os três lados diferentes."
      ],
      "metadata": {
        "id": "jREegBITq5or"
      }
    },
    {
      "cell_type": "code",
      "source": [
        "l1 = float(input('Digite o valor do primeiro lado do trinângulo: '))\n",
        "l2 = float(input('Digite o valor do segundo lado do triângulo: '))\n",
        "l3 = float(input('Digite o valor de terceiro lado do triângulo: '))\n",
        "\n",
        "lados = [l1, l2, l3]\n",
        "\n",
        "if(l1<(l2+l3) and l2<(l1+l3) and l3<(l2+l3)):\n",
        "    if(lados.count(l1) == 3):\n",
        "        print('\\n- O triângulo informado é equilátero.')\n",
        "    elif(lados.count(l1) == 2 or lados.count(l2) == 2):\n",
        "        print('\\n- O triângulo informado é isósceles.')\n",
        "    else:\n",
        "        print('\\n- O triângulo informado é escaleno.')\n",
        "else:\n",
        "    print('\\n- Os valores informados não foram um triângulo!')"
      ],
      "metadata": {
        "colab": {
          "base_uri": "https://localhost:8080/"
        },
        "id": "jrEKDh5sq89a",
        "outputId": "b756cc6a-fb34-4098-cde8-0ff4cce375dc"
      },
      "execution_count": null,
      "outputs": [
        {
          "output_type": "stream",
          "name": "stdout",
          "text": [
            "Digite o valor do primeiro lado do trinângulo: 10\n",
            "Digite o valor do segundo lado do triângulo: 10\n",
            "Digite o valor de terceiro lado do triângulo: 10\n",
            "\n",
            "- O triângulo informado é equilátero.\n"
          ]
        }
      ]
    },
    {
      "cell_type": "markdown",
      "source": [
        "Faça um programa que receba a altura e o peso de uma pessoa. De acordo com a tabela a seguir, verifique e mostre a classificação dessa pessoa.\n",
        "Altura\tPeso até 60\tPeso entre 60 e 90 (Inclusive)\tPeso Acima de 90\n",
        "Menores que 1,20\tA\tD\tG\n",
        "De 1,20 a 1,70\tB\tE\tH\n",
        "Maiores que 1,70\tC\tF\tI"
      ],
      "metadata": {
        "id": "uAvWPtyNsa3w"
      }
    },
    {
      "cell_type": "code",
      "source": [
        "altura = int(input('Digite sua altura: '))\n",
        "peso = int(input('Digite seu peso: '))\n",
        "\n",
        "classificacao = '';\n",
        "\n",
        "if(altura < 120):\n",
        "    if(peso <= 60):\n",
        "        classificacao = 'A'\n",
        "    elif(60 < peso <= 90):\n",
        "        classificacao = 'D'\n",
        "    elif(peso > 90):\n",
        "        classificacao = 'G'\n",
        "elif(altura <= 170):\n",
        "    if(peso <= 60):\n",
        "        classificacao = 'B'\n",
        "    elif(60 < peso <= 90):\n",
        "        classificacao = 'E'\n",
        "    elif(peso > 90):\n",
        "        classificacao = 'H'\n",
        "elif(altura > 170):\n",
        "    if(peso <= 60):\n",
        "        classificacao = 'C'\n",
        "    elif(60 < peso <= 90):\n",
        "        classificacao = 'F'\n",
        "    elif(peso > 90):\n",
        "        classificacao = 'I'\n",
        "  \n",
        "print('A Classificação do usuário é: ', classificacao)\n",
        "        "
      ],
      "metadata": {
        "colab": {
          "base_uri": "https://localhost:8080/"
        },
        "id": "kd4mCQrfsc6O",
        "outputId": "fdb9dc9b-a958-470b-aa32-d79f204b8cfb"
      },
      "execution_count": null,
      "outputs": [
        {
          "output_type": "stream",
          "name": "stdout",
          "text": [
            "Digite sua altura: 176\n",
            "Digite seu peso: 50\n",
            "A Classificação do usuário é:  C\n"
          ]
        }
      ]
    },
    {
      "cell_type": "markdown",
      "source": [
        "Faça um programa que receba:\n",
        "O código de um produto comprado, supondo que a digitação do código do produto seja sempre válida, isto é, um número inteiro entre 1 e 10.\n",
        "O peso do produto em quilos.\n",
        "O código do país de origem, supondo que a digitação do código seja sempre válida, isto é, um número inteiro entre 1 e 3.\n",
        "Tabelas:"
      ],
      "metadata": {
        "id": "6_FjcguKxWba"
      }
    },
    {
      "cell_type": "code",
      "source": [
        "paises = {\n",
        "    '1': {\n",
        "        'imposto': 1.0\n",
        "    },\n",
        "    '2': {\n",
        "        'imposto': 1.15\n",
        "    },\n",
        "    '3': {\n",
        "        'imposto': 1.25\n",
        "    },\n",
        "}\n",
        "\n",
        "codProd = int(input('Digite o código do produto: '))\n",
        "pesoProd = float(input('Digite o peso do produto (em g): '))\n",
        "codPais = input('Digite o código do país do produto: ')\n",
        "\n",
        "valGrama = 10 if 1<=codProd<=4 else (25 if 5<=codProd<=7 else 35)\n",
        "valFinal = round((pesoProd*valGrama)*paises[codPais]['imposto'], 3)\n",
        "\n",
        "print(f'\\n- Valor final do produto: {valFinal}')"
      ],
      "metadata": {
        "colab": {
          "base_uri": "https://localhost:8080/"
        },
        "id": "nH9qCgpIycks",
        "outputId": "cf0311fd-74f7-47d4-a05c-705f34a5ecc5"
      },
      "execution_count": null,
      "outputs": [
        {
          "output_type": "stream",
          "name": "stdout",
          "text": [
            "Digite o código do produto: 4\n",
            "Digite o peso do produto (em g): 200\n",
            "Digite o código do país do produto: 3\n",
            "\n",
            "- Valor final do produto: 2500.0\n"
          ]
        }
      ]
    },
    {
      "cell_type": "markdown",
      "source": [
        "Escreva um programa que calcule o quadrado e o cubo dos números de 0 a 10, e imprima os valores em forma de tabela. Número | Quadrado | Cubo"
      ],
      "metadata": {
        "id": "SOitmm11y18e"
      }
    },
    {
      "cell_type": "code",
      "source": [
        "from tabulate import tabulate\n",
        "\n",
        "table = [];\n",
        "\n",
        "for i in range(1,11):\n",
        "    num = i\n",
        "    qud = i**2\n",
        "    cub = i**3\n",
        "    table.append([num, qud, cub])\n",
        "\n",
        "print(tabulate(table, headers=[\"Número\", \"Quadrado\", \"Cubo\"]))"
      ],
      "metadata": {
        "colab": {
          "base_uri": "https://localhost:8080/"
        },
        "id": "3gjKIRlRy4fw",
        "outputId": "de13276c-44be-4d26-da39-1d6ba0027593"
      },
      "execution_count": null,
      "outputs": [
        {
          "output_type": "stream",
          "name": "stdout",
          "text": [
            "  Número    Quadrado    Cubo\n",
            "--------  ----------  ------\n",
            "       1           1       1\n",
            "       2           4       8\n",
            "       3           9      27\n",
            "       4          16      64\n",
            "       5          25     125\n",
            "       6          36     216\n",
            "       7          49     343\n",
            "       8          64     512\n",
            "       9          81     729\n",
            "      10         100    1000\n"
          ]
        }
      ]
    },
    {
      "cell_type": "markdown",
      "source": [
        "Um funcionário de uma empresa recebe, anualmente, aumento salarial. Sabe-se que:\n",
        "Esse funcionário foi contratado em 2005, com salário inicial de R$ 1.000,00.\n",
        "Em 2006, ele recebeu aumento de 1,5% sobre seu salário inicial.\n",
        "A partir de 2007 (inclusive), os aumentos salariais sempre corresponderam ao dobro do percentual do ano anterior.\n",
        "Faça um programa que determine o salário atual desse funcionário."
      ],
      "metadata": {
        "id": "oOUiI2c2zB06"
      }
    },
    {
      "cell_type": "code",
      "source": [
        "salariobase = 1000\n",
        "aumento = 0\n",
        "\n",
        "for i in range(2006, 2023):\n",
        "    if(i == 2006):\n",
        "        aumento = 1.5\n",
        "        salario = salariobase*1.015\n",
        "    else:\n",
        "        aumento *= 2\n",
        "        salario *= (100+aumento)/100\n",
        "\n",
        "print('Salário atual do funcionário:', {round(salario, 2)})"
      ],
      "metadata": {
        "colab": {
          "base_uri": "https://localhost:8080/"
        },
        "id": "sbhCare4zCbh",
        "outputId": "f2d0f656-f9b4-4774-ffc0-5b20eb9fc88c"
      },
      "execution_count": null,
      "outputs": [
        {
          "output_type": "stream",
          "name": "stdout",
          "text": [
            "Salário atual do funcionário: {2.6290964503891467e+20}\n"
          ]
        }
      ]
    },
    {
      "cell_type": "markdown",
      "source": [
        "Foi feita uma pesquisa para determinar o índice de mortalidade infantil em certo período. Faça um programa que:\n",
        "Leia o número de crianças nascidas no período;\n",
        "Identifique o sexo (M ou F) e o tempo de vida de cada criança nascida.\n",
        "O programa deve calcular e mostrar:\n",
        "\n",
        "A porcentagem de crianças do sexo feminino mortas no período;\n",
        "A porcentagem de crianças do sexo masculino mortas no período;\n",
        "A porcentagem de crianças que viveram 24 meses ou menos no período."
      ],
      "metadata": {
        "id": "bPfeTWMozyLb"
      }
    },
    {
      "cell_type": "code",
      "source": [
        "import sys\n",
        "\n",
        "nChilds = int(input('Digite o número de crianças nascidas no preríodo: '))\n",
        "idadeMascTot = 0\n",
        "idadeFemTot = 0\n",
        "mascTot = 0\n",
        "femTot = 0\n",
        "tot24 = 0\n",
        "\n",
        "for i in range(nChilds):\n",
        "    sexo = input(f'Sexo da {i+1}ª criança (M ou F): ').upper()\n",
        "    if (sexo != 'M' and sexo != 'F'): sys.exit('O sexo informado é inválido!')\n",
        "    mascTot += 1 if sexo == 'M' else 0\n",
        "    femTot += 1 if sexo == 'F' else 0\n",
        "    \n",
        "    tempoVida = int(input(f'Tempo de vida da {i+1}ª criança (em meses): '))\n",
        "    idadeMascTot += tempoVida if sexo == 'M' else 0\n",
        "    idadeFemTot += tempoVida if sexo == 'F' else 0\n",
        "    \n",
        "    if tempoVida<=24: tot24 += 1 \n",
        "\n",
        "print(f'\\n- Porcentagem de crianças do sexo feminino mortas no período: {round((femTot/(femTot + mascTot))*100, 2)}%')\n",
        "print(f'- Porcentagem de crianças do sexo masculino mortas no período: {round((mascTot/(femTot + mascTot))*100, 2)}%')\n",
        "print(f'- A porcentagem de crianças que viveram 24 meses ou menos no período: {round((tot24/(femTot + mascTot))*100, 2)}%')"
      ],
      "metadata": {
        "colab": {
          "base_uri": "https://localhost:8080/"
        },
        "id": "iTFO58iezzsM",
        "outputId": "369212a3-c10b-4748-9458-abd1524fdda5"
      },
      "execution_count": null,
      "outputs": [
        {
          "output_type": "stream",
          "name": "stdout",
          "text": [
            "Digite o número de crianças nascidas no preríodo: 10\n",
            "Sexo da 1ª criança (M ou F): M\n",
            "Tempo de vida da 1ª criança (em meses): 7\n",
            "Sexo da 2ª criança (M ou F): F\n",
            "Tempo de vida da 2ª criança (em meses): 2\n",
            "Sexo da 3ª criança (M ou F): M\n",
            "Tempo de vida da 3ª criança (em meses): 2\n",
            "Sexo da 4ª criança (M ou F): F\n",
            "Tempo de vida da 4ª criança (em meses): 4\n",
            "Sexo da 5ª criança (M ou F): M\n",
            "Tempo de vida da 5ª criança (em meses): 4\n",
            "Sexo da 6ª criança (M ou F): F\n",
            "Tempo de vida da 6ª criança (em meses): 4\n",
            "Sexo da 7ª criança (M ou F): F\n",
            "Tempo de vida da 7ª criança (em meses): 4\n",
            "Sexo da 8ª criança (M ou F): M\n",
            "Tempo de vida da 8ª criança (em meses): 4\n",
            "Sexo da 9ª criança (M ou F): M\n",
            "Tempo de vida da 9ª criança (em meses): 4\n",
            "Sexo da 10ª criança (M ou F): F\n",
            "Tempo de vida da 10ª criança (em meses): 4\n",
            "\n",
            "- Porcentagem de crianças do sexo feminino mortas no período: 50.0%\n",
            "- Porcentagem de crianças do sexo masculino mortas no período: 50.0%\n",
            "- A porcentagem de crianças que viveram 24 meses ou menos no período: 100.0%\n"
          ]
        }
      ]
    },
    {
      "cell_type": "markdown",
      "source": [
        "Faça um programa que receba duas notas de seis alunos. Calcule e mostre:\n",
        "A média aritmética das duas notas de cada aluno; e\n",
        "A mensagem que está na tabela a seguir:\n",
        "O total de alunos aprovados;\n",
        "O total de alunos de exame;\n",
        "O total de alunos reprovados;\n",
        "A média da classe.\n",
        "Média Aritmética\tSituação\n",
        "Entre 0 e 29\tReprovado\n",
        "Entre 30 e 69\tExame Especial\n",
        "Entre 70 e 100\tAprovado"
      ],
      "metadata": {
        "id": "lzHZ9ACT0KiD"
      }
    },
    {
      "cell_type": "code",
      "source": [
        "from tabulate import tabulate\n",
        "\n",
        "notas = []\n",
        "totAprovados = 0\n",
        "totExame = 0\n",
        "totReprovados = 0\n",
        "qtdClasse = 0\n",
        "totalClasse = 0\n",
        "\n",
        "for i in range(6):\n",
        "    n1 = float(input(f'Digite a primeira nota do {i+1}º aluno (0-100): '))\n",
        "    totalClasse += n1\n",
        "    qtdClasse += 1\n",
        "    n2 = float(input(f'Digite a segunda nota do {i+1}º aluno (0-100): '))\n",
        "    totalClasse += n2\n",
        "    qtdClasse += 1\n",
        "    \n",
        "    med = round((n1+n2)/2, 2)\n",
        "    situacao = 'Reprovado' if med <= 29 else ('Exame Especial' if med <= 69 else 'Aprovado')\n",
        "    notas.append([i, n1, n2, med, situacao])\n",
        "    \n",
        "    totAprovados += 1 if situacao == 'Aprovado' else 0\n",
        "    totExame += 1 if situacao == 'Exame Especial' else 0\n",
        "    totReprovados += 1 if situacao == 'Reprovado' else 0\n",
        "    \n",
        "print('\\n'+tabulate(notas, headers=[\"Cod. Aluno\", \"1ª nota\", '2ª nota', 'Média', 'Situação']))\n",
        "print(f'\\n- Total de alunos aprovados: {totAprovados}')\n",
        "print(f'- Total de alunos de exame: {totExame}')\n",
        "print(f'- Total de alunos reprovados: {totReprovados}')\n",
        "print(f'- Média da classe: {round(totalClasse/qtdClasse, 2)}')"
      ],
      "metadata": {
        "colab": {
          "base_uri": "https://localhost:8080/"
        },
        "id": "xoS_BwrL0NXz",
        "outputId": "f82045f1-5d6f-4b4e-a6b6-c2cae865bd0d"
      },
      "execution_count": null,
      "outputs": [
        {
          "output_type": "stream",
          "name": "stdout",
          "text": [
            "Digite a primeira nota do 1º aluno (0-100): 10\n",
            "Digite a segunda nota do 1º aluno (0-100): 90\n",
            "Digite a primeira nota do 2º aluno (0-100): 49\n",
            "Digite a segunda nota do 2º aluno (0-100): 90\n",
            "Digite a primeira nota do 3º aluno (0-100): 90\n",
            "Digite a segunda nota do 3º aluno (0-100): 100\n",
            "Digite a primeira nota do 4º aluno (0-100): 84\n",
            "Digite a segunda nota do 4º aluno (0-100): 29\n",
            "Digite a primeira nota do 5º aluno (0-100): 10\n",
            "Digite a segunda nota do 5º aluno (0-100): 49\n",
            "Digite a primeira nota do 6º aluno (0-100): 95\n",
            "Digite a segunda nota do 6º aluno (0-100): 100\n",
            "\n",
            "  Cod. Aluno    1ª nota    2ª nota    Média  Situação\n",
            "------------  ---------  ---------  -------  --------------\n",
            "           0         10         90     50    Exame Especial\n",
            "           1         49         90     69.5  Aprovado\n",
            "           2         90        100     95    Aprovado\n",
            "           3         84         29     56.5  Exame Especial\n",
            "           4         10         49     29.5  Exame Especial\n",
            "           5         95        100     97.5  Aprovado\n",
            "\n",
            "- Total de alunos aprovados: 3\n",
            "- Total de alunos de exame: 3\n",
            "- Total de alunos reprovados: 0\n",
            "- Média da classe: 66.33\n"
          ]
        }
      ]
    },
    {
      "cell_type": "markdown",
      "source": [
        "Faça um programa para calcular a área de um triângulo e que não permita a entrada de dados inválidos, ou seja, medidas menores ou iguais a 0.\n"
      ],
      "metadata": {
        "id": "nsvWE0Sd0bNx"
      }
    },
    {
      "cell_type": "code",
      "source": [
        "import sys\n",
        "\n",
        "base = float(input('Digite o valor da base do triângulo: '))\n",
        "altura = float(input('Agora, a altura do triângulo: '))\n",
        "\n",
        "if(base <= 0 or altura <= 0): sys.exit('Os valores informados são inválidos!')\n",
        "\n",
        "print(f'Área do triângulo: {(base*altura)/2}')"
      ],
      "metadata": {
        "colab": {
          "base_uri": "https://localhost:8080/"
        },
        "id": "ytlPsQOF0bw4",
        "outputId": "9dda5c44-49ba-46f0-99be-99a30ce0e09f"
      },
      "execution_count": null,
      "outputs": [
        {
          "output_type": "stream",
          "name": "stdout",
          "text": [
            "Digite o valor da base do triângulo: 10\n",
            "Agora, a altura do triângulo: 20\n",
            "Área do triângulo: 100.0\n"
          ]
        }
      ]
    },
    {
      "cell_type": "markdown",
      "source": [
        "\n",
        "\n",
        "---Faça um programa que leia um conjunto não determinado de valores e mostre o valor lido, seu quadrado, seu cubo e sua raiz quadrada. Finalize a entrada de dados com um valor negativo ou zero.\n",
        "\n"
      ],
      "metadata": {
        "id": "bXI843QY0gvl"
      }
    },
    {
      "cell_type": "code",
      "source": [
        "import math\n",
        "\n",
        "output = -1\n",
        "while output != 0:\n",
        "    output = int(input('Digite a opção desejada:\\n- 1. Continuar\\n- 0. Sair\\n'))\n",
        "    if(output == 1):\n",
        "        val = float(input('\\nDigite um valor numérico: '))\n",
        "        print(f'- Resultado de {val} ao quadrado: {val**2}')\n",
        "        print(f'- Resultado de {val} ao cubo: {val**3}')        \n",
        "        print(f'- Resultado da raíz quadrada de {val}: {round(math.sqrt(val), 2)}\\n')      "
      ],
      "metadata": {
        "colab": {
          "base_uri": "https://localhost:8080/"
        },
        "id": "Hi4ROC7s0i16",
        "outputId": "a025c522-6cc5-44fc-95e6-240957de146b"
      },
      "execution_count": null,
      "outputs": [
        {
          "name": "stdout",
          "output_type": "stream",
          "text": [
            "Digite a opção desejada:\n",
            "- 1. Continuar\n",
            "- 0. Sair\n",
            "1\n",
            "\n",
            "Digite um valor numérico: 10\n",
            "- Resultado de 10.0 ao quadrado: 100.0\n",
            "- Resultado de 10.0 ao cubo: 1000.0\n",
            "- Resultado da raíz quadrada de 10.0: 3.16\n",
            "\n",
            "Digite a opção desejada:\n",
            "- 1. Continuar\n",
            "- 0. Sair\n",
            "0\n"
          ]
        }
      ]
    },
    {
      "cell_type": "markdown",
      "source": [
        "Faça um programa que leia um número não determinado de pares de valores [m,n], todos inteiros e positivos, um par de cada vez, e que calcule e mostre a soma de todos os números inteiros entre m e n (inclusive). A digitação de pares terminará quando m for maior ou igual a n."
      ],
      "metadata": {
        "id": "lSa3aN2B0oFL"
      }
    },
    {
      "cell_type": "code",
      "source": [
        "m = 0\n",
        "n = 1\n",
        "while n>m:\n",
        "    m = int(input('Digite a primeiro número: '))\n",
        "    n = int(input('Digite o segundo número: '))\n",
        "    if(n>m):\n",
        "        soma = 0\n",
        "        for i in range(m, (n+1)):\n",
        "            soma += i\n",
        "    \n",
        "        print(f'- Soma dos números inteiros entre {m} e {n}: {soma}\\n')\n",
        "    else:\n",
        "        print('Saindo...')"
      ],
      "metadata": {
        "colab": {
          "base_uri": "https://localhost:8080/"
        },
        "id": "3cmWr6-90qRS",
        "outputId": "cfcc4bac-32a9-4a73-d73e-d98896e9e47e"
      },
      "execution_count": null,
      "outputs": [
        {
          "output_type": "stream",
          "name": "stdout",
          "text": [
            "Digite a primeiro número: 199\n",
            "Digite o segundo número: 200\n",
            "- Soma dos números inteiros entre 199 e 200: 399\n",
            "\n",
            "Digite a primeiro número: 0\n",
            "Digite o segundo número: 0\n",
            "Saindo...\n"
          ]
        }
      ]
    },
    {
      "cell_type": "markdown",
      "source": [
        "Faça um programa que receba vários números, calcule e mostre:\n",
        "\n",
        "A soma dos números digitados;\n",
        "A quantidade de números digitados;\n",
        "A média dos números digitados;\n",
        "O maior número digitado;\n",
        "O menor número digitado;\n",
        "A média dos números pares;\n",
        "A porcentagem dos números ímpares entre todos os números digitados.\n",
        "Finalize a entrada de dados com a digitação do número 0."
      ],
      "metadata": {
        "id": "t7ppTBPC1En5"
      }
    },
    {
      "cell_type": "code",
      "source": [
        "import math\n",
        "\n",
        "sumTot = 0\n",
        "qtdNum = 0\n",
        "medTot = 0\n",
        "maiorNum = 0\n",
        "menorNum = 0\n",
        "sumPares = 0\n",
        "totPares = 0\n",
        "totImp = 0\n",
        "\n",
        "\n",
        "count = 0\n",
        "output = -1\n",
        "while output != 0:\n",
        "    output = int(input('Digite a opção desejada:\\n- 1. Continuar\\n- 0. Finalizar\\n'))\n",
        "    if(output == 1):\n",
        "        val = float(input('\\nDigite seu valor numérico: '))\n",
        "        \n",
        "        if(count == 0):\n",
        "            maiorNum = val\n",
        "            menorNum = val\n",
        "        \n",
        "        sumTot += val\n",
        "        qtdNum += 1\n",
        "        medTot = sumTot/qtdNum\n",
        "        maiorNum = val if val > maiorNum else maiorNum\n",
        "        menorNum = val if val < menorNum else menorNum\n",
        "        sumPares += val if val % 2 == 0 else sumPares\n",
        "        totPares += 1 if val % 2 == 0 else 0\n",
        "        totImp += 1 if val % 2 != 0 else 0\n",
        "        \n",
        "        count += 1\n",
        "        print('\\n')\n",
        "\n",
        "print('\\n--- Resultados da aplicação: ')\n",
        "print(f'. Soma dos números digitados: {sumTot}')\n",
        "print(f'. Quantidade de números digitados: {qtdNum}')\n",
        "print(f'. Média dos números digitados: {medTot}')\n",
        "print(f'. Maior número digitado: {maiorNum}')\n",
        "print(f'. Menor número digitado: {menorNum}')\n",
        "print(f'. Média dos números pares: {sumPares/totPares}')\n",
        "print(f'. Porcentagem dos números ímpares entre todos os números digitados: {(totImp/qtdNum)*100}%')"
      ],
      "metadata": {
        "colab": {
          "base_uri": "https://localhost:8080/"
        },
        "id": "zaLQRTcL1FDO",
        "outputId": "1537e93f-d4b2-43ae-d311-ce3ee68a09c0"
      },
      "execution_count": null,
      "outputs": [
        {
          "output_type": "stream",
          "name": "stdout",
          "text": [
            "Digite a opção desejada:\n",
            "- 1. Continuar\n",
            "- 0. Finalizar\n",
            "1\n",
            "\n",
            "Digite seu valor numérico: 100\n",
            "\n",
            "\n",
            "Digite a opção desejada:\n",
            "- 1. Continuar\n",
            "- 0. Finalizar\n",
            "1\n",
            "\n",
            "Digite seu valor numérico: 200\n",
            "\n",
            "\n",
            "Digite a opção desejada:\n",
            "- 1. Continuar\n",
            "- 0. Finalizar\n",
            "0\n",
            "\n",
            "--- Resultados da aplicação: \n",
            ". Soma dos números digitados: 300.0\n",
            ". Quantidade de números digitados: 2\n",
            ". Média dos números digitados: 150.0\n",
            ". Maior número digitado: 200.0\n",
            ". Menor número digitado: 100.0\n",
            ". Média dos números pares: 150.0\n",
            ". Porcentagem dos números ímpares entre todos os números digitados: 0.0%\n"
          ]
        }
      ]
    },
    {
      "cell_type": "markdown",
      "source": [
        "Faça um programa que leia um número não determinado de pares de valores [m,n], todos inteiros e positivos, um par de cada vez, e que calcule e mostre a soma de todos os números inteiros entre m e n (inclusive). A digitação de pares terminará quando m for maior ou igual a n.\n"
      ],
      "metadata": {
        "id": "Yge4-nuF0yZC"
      }
    }
  ]
}